{
 "cells": [
  {
   "cell_type": "markdown",
   "metadata": {},
   "source": [
    "#### part 1 \n",
    "两数之和 two sum\n",
    "给定一个整数数组 `nums` 和一个目标值 `target`，请你在该数组中找出和为目标值的那 **两个** 整数，并返回他们的数组下标。\n",
    "\n",
    "你可以假设每种输入只会对应一个答案。但是，你不能重复利用这个数组中同样的元素。\n",
    "\n",
    "**示例:**\n",
    "\n",
    "```\n",
    "给定 nums = [2, 7, 11, 15], target = 9\n",
    "\n",
    "因为 nums[0] + nums[1] = 2 + 7 = 9\n",
    "所以返回 [0, 1]\n",
    "```"
   ]
  },
  {
   "cell_type": "code",
   "execution_count": 31,
   "metadata": {},
   "outputs": [],
   "source": [
    "# Solution 0 from my first trial,\n",
    "# time complexity is O(n^2)\n",
    "class Solution:\n",
    "    def TwoSum(self, nums, target):\n",
    "        l = len(nums)\n",
    "        out = []\n",
    "        for num,i in enumerate(nums,start=0):\n",
    "            for j in range(1,l-num):\n",
    "                if (i+nums[num+j])==target:\n",
    "                    out.append(num)\n",
    "                    out.append(num+j)\n",
    "                    break\n",
    "        return out"
   ]
  },
  {
   "cell_type": "code",
   "execution_count": 29,
   "metadata": {},
   "outputs": [],
   "source": [
    "# solution 2 高赞 LeetCode\n",
    "class Solution:\n",
    "    def TwoSum(self, nums, target):\n",
    "        '''\n",
    "        num: list\n",
    "        target: int\n",
    "        out: list\n",
    "        '''\n",
    "        lens = len(nums)\n",
    "        j=-1\n",
    "        for i in range(lens):\n",
    "            if (target - nums[i]) in nums:\n",
    "                if (nums.count(target - nums[i]) == 1)&(target - nums[i] == nums[i]):\n",
    "                    #如果num2=num1,且nums中只出现了一次，说明找到是num1本身。\n",
    "                    continue\n",
    "                else:\n",
    "                    j = nums.index(target - nums[i],i+1) \n",
    "                    #index(x,i+1)是从num1后的序列后找num2                \n",
    "                    break\n",
    "        if j>0:\n",
    "            return [i,j]\n",
    "        else:\n",
    "            return []"
   ]
  },
  {
   "cell_type": "code",
   "execution_count": 7,
   "metadata": {},
   "outputs": [],
   "source": [
    "# Solution 3 my next trial，复杂度依然是O(n^2),最终版\n",
    "# 空间上为15MB，超越90%；而时间上为依然未3000ms,仅超越了20%，有待提高\n",
    "class Solution:\n",
    "    def TwoSum(self,nums,target):\n",
    "        '''\n",
    "        num: list\n",
    "        target: int\n",
    "        out: list\n",
    "        '''\n",
    "        l = len(nums)\n",
    "        # out=[]\n",
    "        for i in range(l-1): # 这里的最后一位不需要比较，因此减一\n",
    "            for j in range(i+1,l):# 这里两两比较，因此i本身并不需要被比较\n",
    "                if (nums[i]+nums[j] == target):\n",
    "                    # out.append(i)\n",
    "                    # out.append(j)\n",
    "                    # return out\n",
    "                    return [i,j]\n",
    "\n",
    "\n"
   ]
  },
  {
   "cell_type": "code",
   "execution_count": 10,
   "metadata": {},
   "outputs": [],
   "source": [
    "# solution 4 吴师兄\n",
    "class Solution(object):\n",
    "    def TwoSum(self, nums, target):\n",
    "        l = len(nums)\n",
    "        print(nums)\n",
    "        ans=[]\n",
    "        for i in range(l-1):\n",
    "            for j in range(i+1,l):\n",
    "                if nums[i]+nums[j] == target:\n",
    "                    ans.append(i)\n",
    "                    ans.append(j)\n",
    "                    print([i,j])\n",
    "                    break\n",
    "        return ans"
   ]
  },
  {
   "cell_type": "code",
   "execution_count": 19,
   "metadata": {},
   "outputs": [
    {
     "name": "stdout",
     "output_type": "stream",
     "text": [
      "#############################\n",
      "[[0, 2], [0, 3]] [[0, 2], [0, 4], [1, 3], [2, 4]] [[0, 2], [1, 2]]\n"
     ]
    }
   ],
   "source": [
    "ins = Solution()\n",
    "out1 = ins.TwoSum([2,11,7,7],9)\n",
    "out2 = ins.TwoSum([3,2,3,4,3],6)\n",
    "out3 = ins.TwoSum([-5,-5,11,4],6)\n",
    "print(\"#############################\")\n",
    "print(out1,out2,out3)"
   ]
  },
  {
   "cell_type": "markdown",
   "metadata": {},
   "source": [
    "#### part 2 举一反三\n",
    "若题目修改为可以重复，且输出所有的组合，则可以用如下代码："
   ]
  },
  {
   "cell_type": "code",
   "execution_count": 17,
   "metadata": {},
   "outputs": [],
   "source": [
    "# Solution x \n",
    "class Solution:\n",
    "    def TwoSum(self,nums,target):\n",
    "        '''\n",
    "        num: list\n",
    "        target: int\n",
    "        out: list\n",
    "        '''\n",
    "        l = len(nums)\n",
    "        out=[]\n",
    "        for i in range(l-1): # 这里的最后一位不需要比较，因此减一\n",
    "            for j in range(i+1,l):# 这里两两比较，因此i本身并不需要被比较\n",
    "                if (nums[i]+nums[j] == target):\n",
    "                    out.append([i,j])\n",
    "        \n",
    "        return out           "
   ]
  },
  {
   "cell_type": "markdown",
   "metadata": {},
   "source": [
    "### unit test"
   ]
  },
  {
   "cell_type": "code",
   "execution_count": 56,
   "metadata": {},
   "outputs": [
    {
     "name": "stdout",
     "output_type": "stream",
     "text": [
      "0\n",
      "2\n",
      "1\n",
      "0\n"
     ]
    }
   ],
   "source": [
    "a = 0\n",
    "b = 1\n",
    "c = 2\n",
    "# \"Usage of and operator\" \n",
    "# if ture, then output item 2; if false, then output item1\n",
    "print(a and b) # True\n",
    "print(b and c) # False\n",
    "# \"Usage of or operator\" \n",
    "# if ture, then output item 1; if false, then output item2\n",
    "print(a or b) # True\n",
    "print(a or a) # False"
   ]
  },
  {
   "cell_type": "code",
   "execution_count": 52,
   "metadata": {},
   "outputs": [
    {
     "name": "stdout",
     "output_type": "stream",
     "text": [
      "0\n",
      "1\n",
      "2\n"
     ]
    }
   ],
   "source": [
    "\n",
    "for i in range(3): # 前闭后开\n",
    "    print(i)\n"
   ]
  }
 ],
 "metadata": {
  "kernelspec": {
   "display_name": "Python 3.8.12 ('gpt')",
   "language": "python",
   "name": "python3"
  },
  "language_info": {
   "codemirror_mode": {
    "name": "ipython",
    "version": 3
   },
   "file_extension": ".py",
   "mimetype": "text/x-python",
   "name": "python",
   "nbconvert_exporter": "python",
   "pygments_lexer": "ipython3",
   "version": "3.8.12"
  },
  "orig_nbformat": 4,
  "vscode": {
   "interpreter": {
    "hash": "b87ae1c415bf879c31e2b7111dedfdde99e7fb6020d8739c335659c250c99311"
   }
  }
 },
 "nbformat": 4,
 "nbformat_minor": 2
}
