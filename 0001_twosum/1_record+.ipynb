{
 "cells": [
  {
   "cell_type": "markdown",
   "metadata": {},
   "source": [
    "### part 1 \n",
    "两数之和 two sum\n",
    "给定一个整数数组 `nums` 和一个目标值 `target`，请你在该数组中找出和为目标值的那 **两个** 整数，并返回他们的数组下标。\n",
    "\n",
    "你可以假设每种输入只会对应一个答案。但是，你不能重复利用这个数组中同样的元素。\n",
    "\n",
    "**示例:**\n",
    "\n",
    "```\n",
    "给定 nums = [2, 7, 11, 15], target = 9\n",
    "\n",
    "因为 nums[0] + nums[1] = 2 + 7 = 9\n",
    "所以返回 [0, 1]\n",
    "```"
   ]
  },
  {
   "cell_type": "markdown",
   "metadata": {},
   "source": [
    "###### 本代码在利用了索引调整，加减法技巧，内置函数`index`的方法，把平方次复杂度降低到线性级"
   ]
  },
  {
   "cell_type": "code",
   "execution_count": 5,
   "metadata": {},
   "outputs": [],
   "source": [
    "# Solution 3 my baseline trial，复杂度依然是O(n^2),最终版\n",
    "# 空间上为15MB，超越90%；而时间上为依然未3000ms,仅超越了20%，有待提高\n",
    "class Solution:\n",
    "    def TwoSum(self,nums,target):\n",
    "        '''\n",
    "        num: list\n",
    "        target: int\n",
    "        out: list\n",
    "        '''\n",
    "        l = len(nums)\n",
    "        for i in range(l-1): # 这里的最后一位不需要比较，因此减一\n",
    "            for j in range(i+1,l):# 这里两两比较，因此i本身并不需要被比较\n",
    "                if (nums[i]+nums[j] == target):\n",
    "                    return [i,j]\n"
   ]
  },
  {
   "cell_type": "code",
   "execution_count": 4,
   "metadata": {},
   "outputs": [],
   "source": [
    "# Solution4 my refinement in time complexity O(n^2) -> O(n), 400ms,15MB\n",
    "class Solution:\n",
    "    def TwoSum(self,nums,target):\n",
    "        '''\n",
    "            num: list\n",
    "            target: int\n",
    "            out: list\n",
    "        '''\n",
    "        for i in range(len(nums)-1):\n",
    "            if ((target-nums[i]) in nums[i+1:]):\n",
    "                return [i,nums.index(target-nums[i],i+1)]"
   ]
  },
  {
   "cell_type": "code",
   "execution_count": 5,
   "metadata": {},
   "outputs": [
    {
     "name": "stdout",
     "output_type": "stream",
     "text": [
      "#############################\n",
      "[0, 2] [0, 2] [0, 2] [1, 2] [0, 1]\n"
     ]
    }
   ],
   "source": [
    "# test case\n",
    "ins = Solution()\n",
    "out1 = ins.TwoSum([2,11,7,7],9)\n",
    "out2 = ins.TwoSum([3,2,3,4,3],6)\n",
    "out3 = ins.TwoSum([-5,-5,11,4],6)\n",
    "out4 = ins.TwoSum([3,2,4],6)\n",
    "out5 = ins.TwoSum([3,3],6)\n",
    "print(\"#############################\")\n",
    "print(out1,out2,out3,out4,out5)"
   ]
  },
  {
   "cell_type": "markdown",
   "metadata": {},
   "source": [
    "### unit test"
   ]
  }
 ],
 "metadata": {
  "kernelspec": {
   "display_name": "Python 3.8.12 ('gpt')",
   "language": "python",
   "name": "python3"
  },
  "language_info": {
   "codemirror_mode": {
    "name": "ipython",
    "version": 3
   },
   "file_extension": ".py",
   "mimetype": "text/x-python",
   "name": "python",
   "nbconvert_exporter": "python",
   "pygments_lexer": "ipython3",
   "version": "3.8.12"
  },
  "orig_nbformat": 4,
  "vscode": {
   "interpreter": {
    "hash": "b87ae1c415bf879c31e2b7111dedfdde99e7fb6020d8739c335659c250c99311"
   }
  }
 },
 "nbformat": 4,
 "nbformat_minor": 2
}
